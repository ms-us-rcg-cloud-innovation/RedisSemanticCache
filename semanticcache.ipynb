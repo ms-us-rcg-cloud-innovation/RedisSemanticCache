{
 "cells": [
  {
   "cell_type": "markdown",
   "metadata": {},
   "source": [
    "Semantic Cache Documentation: https://python.langchain.com/docs/integrations/llms/llm_caching#redis-cache\n",
    "LLM Documentation: https://python.langchain.com/docs/integrations/llms/azure_openai\n"
   ]
  },
  {
   "cell_type": "code",
   "execution_count": 1,
   "metadata": {},
   "outputs": [
    {
     "name": "stdout",
     "output_type": "stream",
     "text": [
      "Requirement already satisfied: openai in c:\\users\\pahuber\\appdata\\roaming\\python\\python312\\site-packages (1.3.9)Note: you may need to restart the kernel to use updated packages.\n",
      "\n",
      "Requirement already satisfied: langchain in c:\\users\\pahuber\\appdata\\roaming\\python\\python312\\site-packages (0.0.350)\n",
      "Requirement already satisfied: redis in c:\\python312\\lib\\site-packages (5.0.1)\n",
      "Requirement already satisfied: tiktoken in c:\\users\\pahuber\\appdata\\roaming\\python\\python312\\site-packages (0.5.2)\n",
      "Requirement already satisfied: python-dotenv in c:\\users\\pahuber\\appdata\\roaming\\python\\python312\\site-packages (1.0.0)\n",
      "Requirement already satisfied: anyio<5,>=3.5.0 in c:\\users\\pahuber\\appdata\\roaming\\python\\python312\\site-packages (from openai) (4.1.0)\n",
      "Requirement already satisfied: distro<2,>=1.7.0 in c:\\python312\\lib\\site-packages (from openai) (1.8.0)\n",
      "Requirement already satisfied: httpx<1,>=0.23.0 in c:\\users\\pahuber\\appdata\\roaming\\python\\python312\\site-packages (from openai) (0.25.2)\n",
      "Requirement already satisfied: pydantic<3,>=1.9.0 in c:\\users\\pahuber\\appdata\\roaming\\python\\python312\\site-packages (from openai) (2.5.2)\n",
      "Requirement already satisfied: sniffio in c:\\python312\\lib\\site-packages (from openai) (1.3.0)\n",
      "Requirement already satisfied: tqdm>4 in c:\\python312\\lib\\site-packages (from openai) (4.66.1)\n",
      "Requirement already satisfied: typing-extensions<5,>=4.5 in c:\\python312\\lib\\site-packages (from openai) (4.9.0)\n",
      "Requirement already satisfied: PyYAML>=5.3 in c:\\python312\\lib\\site-packages (from langchain) (6.0.1)\n",
      "Requirement already satisfied: SQLAlchemy<3,>=1.4 in c:\\users\\pahuber\\appdata\\roaming\\python\\python312\\site-packages (from langchain) (2.0.23)\n",
      "Requirement already satisfied: aiohttp<4.0.0,>=3.8.3 in c:\\users\\pahuber\\appdata\\roaming\\python\\python312\\site-packages (from langchain) (3.9.1)\n",
      "Requirement already satisfied: dataclasses-json<0.7,>=0.5.7 in c:\\users\\pahuber\\appdata\\roaming\\python\\python312\\site-packages (from langchain) (0.6.3)\n",
      "Requirement already satisfied: jsonpatch<2.0,>=1.33 in c:\\python312\\lib\\site-packages (from langchain) (1.33)\n",
      "Requirement already satisfied: langchain-community<0.1,>=0.0.2 in c:\\users\\pahuber\\appdata\\roaming\\python\\python312\\site-packages (from langchain) (0.0.2)\n",
      "Requirement already satisfied: langchain-core<0.2,>=0.1 in c:\\users\\pahuber\\appdata\\roaming\\python\\python312\\site-packages (from langchain) (0.1.0)\n",
      "Requirement already satisfied: langsmith<0.1.0,>=0.0.63 in c:\\users\\pahuber\\appdata\\roaming\\python\\python312\\site-packages (from langchain) (0.0.69)\n",
      "Requirement already satisfied: numpy<2,>=1 in c:\\python312\\lib\\site-packages (from langchain) (1.26.2)\n",
      "Requirement already satisfied: requests<3,>=2 in c:\\users\\pahuber\\appdata\\roaming\\python\\python312\\site-packages (from langchain) (2.31.0)\n",
      "Requirement already satisfied: tenacity<9.0.0,>=8.1.0 in c:\\python312\\lib\\site-packages (from langchain) (8.2.3)\n",
      "Requirement already satisfied: regex>=2022.1.18 in c:\\python312\\lib\\site-packages (from tiktoken) (2023.10.3)\n",
      "Requirement already satisfied: attrs>=17.3.0 in c:\\users\\pahuber\\appdata\\roaming\\python\\python312\\site-packages (from aiohttp<4.0.0,>=3.8.3->langchain) (23.1.0)\n",
      "Requirement already satisfied: multidict<7.0,>=4.5 in c:\\python312\\lib\\site-packages (from aiohttp<4.0.0,>=3.8.3->langchain) (6.0.4)\n",
      "Requirement already satisfied: yarl<2.0,>=1.0 in c:\\users\\pahuber\\appdata\\roaming\\python\\python312\\site-packages (from aiohttp<4.0.0,>=3.8.3->langchain) (1.9.4)\n",
      "Requirement already satisfied: frozenlist>=1.1.1 in c:\\python312\\lib\\site-packages (from aiohttp<4.0.0,>=3.8.3->langchain) (1.4.0)\n",
      "Requirement already satisfied: aiosignal>=1.1.2 in c:\\users\\pahuber\\appdata\\roaming\\python\\python312\\site-packages (from aiohttp<4.0.0,>=3.8.3->langchain) (1.3.1)\n",
      "Requirement already satisfied: idna>=2.8 in c:\\python312\\lib\\site-packages (from anyio<5,>=3.5.0->openai) (3.6)\n",
      "Requirement already satisfied: marshmallow<4.0.0,>=3.18.0 in c:\\python312\\lib\\site-packages (from dataclasses-json<0.7,>=0.5.7->langchain) (3.20.1)\n",
      "Requirement already satisfied: typing-inspect<1,>=0.4.0 in c:\\python312\\lib\\site-packages (from dataclasses-json<0.7,>=0.5.7->langchain) (0.9.0)\n",
      "Requirement already satisfied: certifi in c:\\users\\pahuber\\appdata\\roaming\\python\\python312\\site-packages (from httpx<1,>=0.23.0->openai) (2023.11.17)\n",
      "Requirement already satisfied: httpcore==1.* in c:\\users\\pahuber\\appdata\\roaming\\python\\python312\\site-packages (from httpx<1,>=0.23.0->openai) (1.0.2)\n",
      "Requirement already satisfied: h11<0.15,>=0.13 in c:\\python312\\lib\\site-packages (from httpcore==1.*->httpx<1,>=0.23.0->openai) (0.14.0)\n",
      "Requirement already satisfied: jsonpointer>=1.9 in c:\\python312\\lib\\site-packages (from jsonpatch<2.0,>=1.33->langchain) (2.4)\n",
      "Requirement already satisfied: packaging<24.0,>=23.2 in c:\\users\\pahuber\\appdata\\roaming\\python\\python312\\site-packages (from langchain-core<0.2,>=0.1->langchain) (23.2)\n",
      "Requirement already satisfied: annotated-types>=0.4.0 in c:\\users\\pahuber\\appdata\\roaming\\python\\python312\\site-packages (from pydantic<3,>=1.9.0->openai) (0.6.0)\n",
      "Requirement already satisfied: pydantic-core==2.14.5 in c:\\python312\\lib\\site-packages (from pydantic<3,>=1.9.0->openai) (2.14.5)\n",
      "Requirement already satisfied: charset-normalizer<4,>=2 in c:\\users\\pahuber\\appdata\\roaming\\python\\python312\\site-packages (from requests<3,>=2->langchain) (3.3.2)\n",
      "Requirement already satisfied: urllib3<3,>=1.21.1 in c:\\python312\\lib\\site-packages (from requests<3,>=2->langchain) (2.1.0)\n",
      "Requirement already satisfied: greenlet!=0.4.17 in c:\\python312\\lib\\site-packages (from SQLAlchemy<3,>=1.4->langchain) (3.0.2)\n",
      "Requirement already satisfied: colorama in c:\\users\\pahuber\\appdata\\roaming\\python\\python312\\site-packages (from tqdm>4->openai) (0.4.6)\n",
      "Requirement already satisfied: mypy-extensions>=0.3.0 in c:\\python312\\lib\\site-packages (from typing-inspect<1,>=0.4.0->dataclasses-json<0.7,>=0.5.7->langchain) (1.0.0)\n"
     ]
    }
   ],
   "source": [
    "%pip install openai langchain redis tiktoken python-dotenv --user"
   ]
  },
  {
   "cell_type": "code",
   "execution_count": 2,
   "metadata": {},
   "outputs": [
    {
     "name": "stderr",
     "output_type": "stream",
     "text": [
      "C:\\Users\\pahuber\\AppData\\Roaming\\Python\\Python312\\site-packages\\langchain_community\\llms\\openai.py:872: UserWarning: As of openai>=1.0.0, Azure endpoints should be specified via the `azure_endpoint` param not `openai_api_base` (or alias `base_url`). Updating `openai_api_base` from https://eastus.api.cognitive.microsoft.com/ to https://eastus.api.cognitive.microsoft.com/openai.\n",
      "  warnings.warn(\n",
      "C:\\Users\\pahuber\\AppData\\Roaming\\Python\\Python312\\site-packages\\langchain_community\\llms\\openai.py:879: UserWarning: As of openai>=1.0.0, if `deployment_name` (or alias `azure_deployment`) is specified then `openai_api_base` (or alias `base_url`) should not be. Instead use `deployment_name` (or alias `azure_deployment`) and `azure_endpoint`.\n",
      "  warnings.warn(\n",
      "C:\\Users\\pahuber\\AppData\\Roaming\\Python\\Python312\\site-packages\\langchain_community\\llms\\openai.py:887: UserWarning: As of openai>=1.0.0, if `openai_api_base` (or alias `base_url`) is specified it is expected to be of the form https://example-resource.azure.openai.com/openai/deployments/example-deployment. Updating https://eastus.api.cognitive.microsoft.com/ to https://eastus.api.cognitive.microsoft.com/openai.\n",
      "  warnings.warn(\n",
      "C:\\Users\\pahuber\\AppData\\Roaming\\Python\\Python312\\site-packages\\langchain_community\\embeddings\\azure_openai.py:106: UserWarning: As of openai>=1.0.0, Azure endpoints should be specified via the `azure_endpoint` param not `openai_api_base` (or alias `base_url`). Updating `openai_api_base` from https://eastus.api.cognitive.microsoft.com/ to https://eastus.api.cognitive.microsoft.com//openai.\n",
      "  warnings.warn(\n",
      "C:\\Users\\pahuber\\AppData\\Roaming\\Python\\Python312\\site-packages\\langchain_community\\embeddings\\azure_openai.py:113: UserWarning: As of openai>=1.0.0, if `deployment` (or alias `azure_deployment`) is specified then `openai_api_base` (or alias `base_url`) should not be. Instead use `deployment` (or alias `azure_deployment`) and `azure_endpoint`.\n",
      "  warnings.warn(\n",
      "C:\\Users\\pahuber\\AppData\\Roaming\\Python\\Python312\\site-packages\\langchain_community\\embeddings\\azure_openai.py:121: UserWarning: As of openai>=1.0.0, if `openai_api_base` (or alias `base_url`) is specified it is expected to be of the form https://example-resource.azure.openai.com/openai/deployments/example-deployment. Updating https://eastus.api.cognitive.microsoft.com/ to https://eastus.api.cognitive.microsoft.com//openai.\n",
      "  warnings.warn(\n"
     ]
    }
   ],
   "source": [
    "import openai\n",
    "import redis\n",
    "import os\n",
    "import langchain\n",
    "from os import environ\n",
    "from langchain.llms import AzureOpenAI\n",
    "from langchain.embeddings import AzureOpenAIEmbeddings\n",
    "from langchain.globals import set_llm_cache\n",
    "from langchain.cache import RedisSemanticCache\n",
    "from dotenv import load_dotenv\n",
    "import time\n",
    "\n",
    "load_dotenv()\n",
    "openai_api_type=\"azure\"\n",
    "openai_api_version=\"2023-05-15\"\n",
    "openai_api_base=os.getenv(\"OPENAI_API_BASE\")\n",
    "openai_api_key=os.getenv(\"OPENAI_API_KEY\")\n",
    "# I want to pass these in explicitly\n",
    "os.unsetenv(\"OPENAI_API_BASE\")\n",
    "os.unsetenv(\"OPENAI_API_KEY\")\n",
    "\n",
    "# make sure you have an LLM deployed in your Azure Open AI account. In this example, I used the GPT 3.5 turbo instruct model. My deployment was named \"gpt35instruct\".\n",
    "llm = AzureOpenAI(\n",
    "    azure_deployment=\"resdissemcache\",\n",
    "    model_name=\"gpt-35-turbo\",\n",
    "    openai_api_base=openai_api_base,\n",
    "    openai_api_key=openai_api_key,\n",
    "    api_version=openai_api_version,    \n",
    ")\n",
    "\n",
    "# make sure you have an embeddings model deployed in your Azure Open AI account. In this example, I used the text embedding ada 002 model. My deployment was named \"textembedding\".\n",
    "embeddings = AzureOpenAIEmbeddings(\n",
    "    azure_deployment=\"text-embedding-ada-002\",\n",
    "    base_url=openai_api_base,\n",
    "    api_version=openai_api_version,\n",
    "    api_key=openai_api_key,\n",
    ")\n",
    "\n",
    "REDIS_ENDPOINT = os.getenv('REDIS_ENDPOINT') # must include port at the end. e.g. \"redisdemo.eastus.redisenterprise.cache.azure.net:10000\"\n",
    "REDIS_PASSWORD = os.getenv('REDIS_PASSWORD')\n",
    "\n",
    "# create a connection string for the Redis Vector Store. Uses Redis-py format: https://redis-py.readthedocs.io/en/stable/connections.html#redis.Redis.from_url\n",
    "# This example assumes TLS is enabled. If not, use \"redis://\" instead of \"rediss://\n",
    "redis_url = \"rediss://:\" + REDIS_PASSWORD + \"@\"+ REDIS_ENDPOINT\n",
    "\n",
    "# set up the semantic cache for your llm\n",
    "set_llm_cache(RedisSemanticCache(redis_url = redis_url, embedding=embeddings, score_threshold=.05))\n",
    "\n",
    "#note: you can use score_threshold to change how sensitive the semantic cache is. The lower the score, the less likely it is to use a cached result."
   ]
  },
  {
   "cell_type": "code",
   "execution_count": 8,
   "metadata": {},
   "outputs": [
    {
     "name": "stdout",
     "output_type": "stream",
     "text": [
      ". Puppies, puppies everywhere, Everywhere I look. Furry little faces And wagging tails Book Review: How to Teach Physics to Your Dog by Chad Orzel. Nerdy physics professor, Chad Orzel, has written a book that attempts to teach quantum physics to his dog Emmy.\n",
      "\n",
      "The book is an introduction to the principles that underlie the world of the very small, from atoms and photons, to electrons and quarks. This is a deeply subversive book about the relationship between dogs and humans and what \"training\" a dog means.\n",
      "\n",
      "The author argues that dogs are not, as we believe, obedient animals, but rather they are emotionally complex and highly manipulative creatures, adept at controlling their owners and getting what they want/5.\n",
      "\n",
      "A Dog’s Life is the story of a stray dog named Squirrel and her life in the streets and wilderness. Along her journey, she meets many other dogs and forms bonds with them, both good and bad. Throughout the book, Squirrel is in search of food, shelter, and companionship, but she also wants a place to call home and someone to love her.\n",
      "\n",
      "For many dog lovers, the hardest thing about owning a dog is leaving them behind when we go to work. However, a solution is possible,\n",
      "CPU times: total: 0 ns\n",
      "Wall time: 238 ms\n"
     ]
    }
   ],
   "source": [
    "%%time\n",
    "response = llm(\"Please write a poem about cute puppies\")\n",
    "print(response)"
   ]
  },
  {
   "cell_type": "code",
   "execution_count": 5,
   "metadata": {},
   "outputs": [
    {
     "name": "stdout",
     "output_type": "stream",
     "text": [
      "256\n",
      "7\n"
     ]
    }
   ],
   "source": [
    "# calculate tokens required\n",
    "import tiktoken\n",
    "encoding = tiktoken.get_encoding('cl100k_base')\n",
    "response_tokens = len(encoding.encode(response))\n",
    "query_tokens = len(encoding.encode(\"Please write a poem about cute puppies\"))\n",
    "print(response_tokens)\n",
    "print(query_tokens)"
   ]
  },
  {
   "cell_type": "code",
   "execution_count": 9,
   "metadata": {},
   "outputs": [
    {
     "name": "stdout",
     "output_type": "stream",
     "text": [
      ". Puppies, puppies everywhere, Everywhere I look. Furry little faces And wagging tails Book Review: How to Teach Physics to Your Dog by Chad Orzel. Nerdy physics professor, Chad Orzel, has written a book that attempts to teach quantum physics to his dog Emmy.\n",
      "\n",
      "The book is an introduction to the principles that underlie the world of the very small, from atoms and photons, to electrons and quarks. This is a deeply subversive book about the relationship between dogs and humans and what \"training\" a dog means.\n",
      "\n",
      "The author argues that dogs are not, as we believe, obedient animals, but rather they are emotionally complex and highly manipulative creatures, adept at controlling their owners and getting what they want/5.\n",
      "\n",
      "A Dog’s Life is the story of a stray dog named Squirrel and her life in the streets and wilderness. Along her journey, she meets many other dogs and forms bonds with them, both good and bad. Throughout the book, Squirrel is in search of food, shelter, and companionship, but she also wants a place to call home and someone to love her.\n",
      "\n",
      "For many dog lovers, the hardest thing about owning a dog is leaving them behind when we go to work. However, a solution is possible,\n",
      "CPU times: total: 31.2 ms\n",
      "Wall time: 84 ms\n"
     ]
    }
   ],
   "source": [
    "%%time\n",
    "response = llm(\"Tell me a poem about puppies\")\n",
    "print(response)"
   ]
  }
 ],
 "metadata": {
  "kernelspec": {
   "display_name": ".venv",
   "language": "python",
   "name": "python3"
  },
  "language_info": {
   "codemirror_mode": {
    "name": "ipython",
    "version": 3
   },
   "file_extension": ".py",
   "mimetype": "text/x-python",
   "name": "python",
   "nbconvert_exporter": "python",
   "pygments_lexer": "ipython3",
   "version": "3.12.0"
  }
 },
 "nbformat": 4,
 "nbformat_minor": 2
}
